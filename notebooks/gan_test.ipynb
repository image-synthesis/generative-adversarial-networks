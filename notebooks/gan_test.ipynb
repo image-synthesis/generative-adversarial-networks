{
 "cells": [
  {
   "cell_type": "code",
   "execution_count": 1,
   "metadata": {},
   "outputs": [],
   "source": [
    "import torch\n",
    "from torchvision import datasets, transforms\n",
    "from torch.utils.data import DataLoader"
   ]
  },
  {
   "cell_type": "code",
   "execution_count": 2,
   "metadata": {},
   "outputs": [
    {
     "name": "stdout",
     "output_type": "stream",
     "text": [
      "(28, 28)\n"
     ]
    },
    {
     "data": {
      "text/plain": [
       "<matplotlib.image.AxesImage at 0x704f9d5d21d0>"
      ]
     },
     "execution_count": 2,
     "metadata": {},
     "output_type": "execute_result"
    },
    {
     "data": {
      "image/png": "[encoded data removed]",
      "text/plain": [
       "<Figure size 640x480 with 1 Axes>"
      ]
     },
     "metadata": {},
     "output_type": "display_data"
    }
   ],
   "source": [
    "# load the dataset\n",
    "\n",
    "transform = transforms.Compose([\n",
    "    transforms.ToTensor(),  # Convert images to tensor\n",
    "    transforms.Normalize((0.1307,), (0.3081,))  # Normalize with mean and std\n",
    "])\n",
    "\n",
    "train_dataset = datasets.MNIST(\n",
    "    root='data',\n",
    "    train=True,\n",
    "    transform=transform,\n",
    "    download=True\n",
    ")\n",
    "\n",
    "test_dataset = datasets.MNIST(\n",
    "    root='data',\n",
    "    train=False,\n",
    "    transform=transform,\n",
    "    download=True\n",
    ")\n",
    "\n",
    "import matplotlib.pyplot as plt\n",
    "\n",
    "img = train_dataset[0][0].numpy().squeeze()\n",
    "img = (img - img.min()) / (img.max() - img.min())\n",
    "print(img.shape)\n",
    "plt.imshow(img, cmap='gray')"
   ]
  },
  {
   "cell_type": "code",
   "execution_count": 3,
   "metadata": {},
   "outputs": [
    {
     "data": {
      "text/plain": [
       "torch.Size([1, 28, 28])"
      ]
     },
     "execution_count": 3,
     "metadata": {},
     "output_type": "execute_result"
    }
   ],
   "source": [
    "train_dataset[0][0].shape"
   ]
  },
  {
   "cell_type": "code",
   "execution_count": 4,
   "metadata": {},
   "outputs": [],
   "source": [
    "# define the generator - deconvolution network\n",
    "\n",
    "import torch.nn as nn\n",
    "from functools import reduce\n",
    "\n",
    "class Generator(nn.Module):\n",
    "    def __init__(self, final_size=28, num_deconv_layers=2, input_filters=128, output_filters=1, latent_size=100):\n",
    "        super().__init__()\n",
    "        self.input_filters = input_filters\n",
    "        self.num_deconv_layers = num_deconv_layers\n",
    "        self.orig_img_size = final_size // (2 ** num_deconv_layers)\n",
    "        self.fc = nn.Linear(latent_size, self.orig_img_size * self.orig_img_size * input_filters, bias=True)\n",
    "        self.relu = nn.ReLU()\n",
    "        self.bn1d = nn.BatchNorm1d(self.orig_img_size * self.orig_img_size * input_filters)\n",
    "        deconv_out_filters = reduce(lambda x, _: x + [x[-1] // 2], range(num_deconv_layers), [input_filters])\n",
    "        deconv_out_filters[-1] = output_filters\n",
    "        self.deconv_layers = nn.ModuleDict({f'deconv_{i}': nn.ConvTranspose2d(in_channels=deconv_out_filters[i], out_channels=deconv_out_filters[i+1], stride=2, kernel_size=4, padding=1) for i in range(num_deconv_layers)})\n",
    "        self.bn2d_layers = nn.ModuleDict({f'bn_{i}': nn.BatchNorm2d(deconv_out_filters[i+1]) for i in range(num_deconv_layers-1)})\n",
    "        self.tanh = nn.Tanh()\n",
    "    \n",
    "    def forward(self, x):\n",
    "        x = self.relu(self.bn1d(self.fc(x)))\n",
    "        x = x.view(-1, self.input_filters, self.orig_img_size, self.orig_img_size)\n",
    "        for idx, deconv in enumerate(list(self.deconv_layers.values())[:-1]):\n",
    "            x = self.relu(self.bn2d_layers[f'bn_{idx}'](deconv(x)))\n",
    "        return self.tanh(self.deconv_layers[f'deconv_{self.num_deconv_layers-1}'](x))"
   ]
  },
  {
   "cell_type": "code",
   "execution_count": 5,
   "metadata": {},
   "outputs": [],
   "source": [
    "# define the discriminator - convolution network\n",
    "from functools import reduce\n",
    "\n",
    "class Discriminator(nn.Module):\n",
    "    def __init__(self, num_initial_filters=64, num_conv_layers=2, initial_size=28):\n",
    "        super().__init__()\n",
    "        self.channels = [1] + list(reduce(lambda x, _: x + [x[-1]*2], range(num_conv_layers-1), [num_initial_filters]))\n",
    "        self.conv_layers = nn.ModuleDict({f'conv_{i}': nn.Conv2d(in_channels=self.channels[i], out_channels=self.channels[i+1], kernel_size=4, stride=2, padding=1) for i in range(num_conv_layers)})\n",
    "        self.leaky_relu = nn.LeakyReLU(0.2)\n",
    "        self.flatten = nn.Flatten()\n",
    "        final_size = initial_size // (2 ** num_conv_layers)\n",
    "        self.fc = nn.Linear(final_size * final_size * self.channels[-1], 1)\n",
    "    \n",
    "    def forward(self, x):\n",
    "        for conv in self.conv_layers.values():\n",
    "            x = self.leaky_relu(conv(x))\n",
    "        x = self.flatten(x)\n",
    "        return self.fc(x)"
   ]
  },
  {
   "cell_type": "code",
   "execution_count": 6,
   "metadata": {},
   "outputs": [],
   "source": [
    "from torch.utils.data import Dataset\n",
    "\n",
    "class HuggingFaceDataset(Dataset):\n",
    "    def __init__(self, hf_dataset):\n",
    "        self.dataset = hf_dataset\n",
    "\n",
    "    def __len__(self):\n",
    "        # Return the size of the dataset\n",
    "        return len(self.dataset)\n",
    "\n",
    "    def __getitem__(self, idx):\n",
    "        # Access a single item by index\n",
    "        item = self.dataset[idx][0]\n",
    "        return item  # Return the raw data (customize as needed)"
   ]
  },
  {
   "cell_type": "code",
   "execution_count": 13,
   "metadata": {},
   "outputs": [],
   "source": [
    "from torch.optim import Adam\n",
    "from torch.utils.data import DataLoader, SubsetRandomSampler\n",
    "\n",
    "from tqdm import tqdm\n",
    "import random\n",
    "random.seed(42)\n",
    "\n",
    "class Trainer:\n",
    "    def __init__(self, k, m, train_dataset):\n",
    "        self.k = k\n",
    "        train_dataset_size = len(train_dataset)\n",
    "        random_indices = random.sample(range(train_dataset_size), train_dataset_size)\n",
    "        sampler = SubsetRandomSampler(random_indices)\n",
    "        self.train_dataloader = DataLoader(train_dataset, sampler=sampler, batch_size=m)\n",
    "        self.device = torch.device('cuda' if torch.cuda.is_available() else 'cpu')\n",
    "        self.generator = Generator().to(self.device)\n",
    "        self.discriminator = Discriminator().to(self.device)\n",
    "        self.generator_optim = Adam(self.generator.parameters())\n",
    "        self.discriminator_optim = Adam(self.discriminator.parameters())\n",
    "        self.loss_fn = nn.BCEWithLogitsLoss()\n",
    "    \n",
    "    def train(self, iterations):\n",
    "        for _ in tqdm(range(iterations)):\n",
    "            torch.cuda.empty_cache()\n",
    "            sample = next(iter(self.train_dataloader))\n",
    "            for _ in range(self.k):\n",
    "                real_data = sample[0].to(self.device)\n",
    "                noise_samples = torch.randn(real_data.size(0), 100).to(self.device)\n",
    "                # print(real_data.shape, noise_samples.shape)\n",
    "                self.train_discriminator(real_data, noise_samples)\n",
    "            self.train_generator(noise_samples)\n",
    "\n",
    "    def train_discriminator(self, real_data, noise_samples):\n",
    "        # print(noise_samples.shape)\n",
    "        fake_data = self.generator(noise_samples)\n",
    "        # print(fake_data.shape)\n",
    "        real_labels = torch.ones(real_data.size(0), 1).to(self.device)\n",
    "        fake_labels = torch.zeros(fake_data.size(0), 1).to(self.device)\n",
    "        real_output = self.discriminator(real_data)\n",
    "        fake_output = self.discriminator(fake_data)\n",
    "        # print(real_output.shape, fake_output.shape)\n",
    "        real_loss = self.loss_fn(real_output, real_labels)\n",
    "        fake_loss = self.loss_fn(fake_output, fake_labels)\n",
    "        loss = real_loss + fake_loss\n",
    "        self.discriminator_optim.zero_grad()\n",
    "        loss.backward()\n",
    "        self.discriminator_optim.step()\n",
    "    \n",
    "    def train_generator(self, noise_samples):\n",
    "        fake_data = self.generator(noise_samples)\n",
    "        fake_labels = torch.ones(fake_data.size(0), 1).to(self.device)\n",
    "        fake_output = self.discriminator(fake_data)\n",
    "        # print(fake_output.shape)\n",
    "        loss = self.loss_fn(fake_output, fake_labels)\n",
    "        self.generator_optim.zero_grad()\n",
    "        loss.backward()\n",
    "        self.generator_optim.step()"
   ]
  },
  {
   "cell_type": "code",
   "execution_count": 18,
   "metadata": {},
   "outputs": [
    {
     "name": "stderr",
     "output_type": "stream",
     "text": [
      "  0%|          | 0/5000 [00:00<?, ?it/s]"
     ]
    },
    {
     "name": "stderr",
     "output_type": "stream",
     "text": [
      "100%|██████████| 5000/5000 [13:13<00:00,  6.30it/s]\n"
     ]
    }
   ],
   "source": [
    "# train_hf_dataset = HuggingFaceDataset(train_dataset)\n",
    "trainer = Trainer(1, 100, train_dataset)\n",
    "trainer.train(5000)"
   ]
  },
  {
   "cell_type": "code",
   "execution_count": 19,
   "metadata": {},
   "outputs": [
    {
     "name": "stdout",
     "output_type": "stream",
     "text": [
      "torch.Size([5, 1, 28, 28])\n",
      "torch.Size([5, 1])\n",
      "tensor([[-12.0144],\n",
      "        [-12.1184],\n",
      "        [-12.3565],\n",
      "        [-12.7003],\n",
      "        [-11.4122]], device='cuda:0')\n"
     ]
    },
    {
     "data": {
      "image/png": "[encoded data removed]",
      "text/plain": [
       "<Figure size 1000x1000 with 2 Axes>"
      ]
     },
     "metadata": {},
     "output_type": "display_data"
    }
   ],
   "source": [
    "import matplotlib.pyplot as plt\n",
    "\n",
    "plt.figure(figsize=(10, 10))\n",
    "\n",
    "z = torch.randn(5, 100)\n",
    "with torch.no_grad():\n",
    "    gen = Generator()\n",
    "    gen_imgs = gen(z)\n",
    "    print(gen_imgs.shape)\n",
    "    disc = Discriminator()\n",
    "    disc_out = disc(gen_imgs)\n",
    "    print(disc_out.shape)\n",
    "    plt.subplot(1, 2, 1)\n",
    "    plt.imshow(gen_imgs[0].cpu().numpy().squeeze(), cmap='gray')\n",
    "\n",
    "with torch.no_grad():\n",
    "    gen_imgs = trainer.generator(z.to(trainer.device))\n",
    "    plt.subplot(1, 2, 2)\n",
    "    plt.imshow(gen_imgs[0].cpu().numpy().squeeze(), cmap='gray')\n",
    "    print(trainer.discriminator(gen_imgs))"
   ]
  },
  {
   "cell_type": "code",
   "execution_count": 75,
   "metadata": {},
   "outputs": [
    {
     "data": {
      "text/plain": [
       "2"
      ]
     },
     "execution_count": 75,
     "metadata": {},
     "output_type": "execute_result"
    }
   ],
   "source": [
    "len(train_dataset[0])"
   ]
  },
  {
   "cell_type": "code",
   "execution_count": 9,
   "metadata": {},
   "outputs": [],
   "source": [
    "train_dataset_size = len(train_dataset)\n",
    "# print(train_dataset_size)\n",
    "random_indices = random.sample(range(train_dataset_size), train_dataset_size)\n",
    "sampler = SubsetRandomSampler(random_indices)\n",
    "train_dataloader = DataLoader(train_dataset, sampler=sampler, batch_size=100)"
   ]
  },
  {
   "cell_type": "code",
   "execution_count": 12,
   "metadata": {},
   "outputs": [
    {
     "data": {
      "text/plain": [
       "100"
      ]
     },
     "execution_count": 12,
     "metadata": {},
     "output_type": "execute_result"
    }
   ],
   "source": [
    "sample = next(iter(train_dataloader))\n",
    "len(sample[0])"
   ]
  },
  {
   "cell_type": "code",
   "execution_count": 69,
   "metadata": {},
   "outputs": [
    {
     "data": {
      "text/plain": [
       "Dataset MNIST\n",
       "    Number of datapoints: 60000\n",
       "    Root location: data\n",
       "    Split: Train\n",
       "    StandardTransform\n",
       "Transform: Compose(\n",
       "               ToTensor()\n",
       "               Normalize(mean=(0.1307,), std=(0.3081,))\n",
       "           )"
      ]
     },
     "execution_count": 69,
     "metadata": {},
     "output_type": "execute_result"
    }
   ],
   "source": [
    "train_dataset"
   ]
  },
  {
   "cell_type": "code",
   "execution_count": 49,
   "metadata": {},
   "outputs": [
    {
     "name": "stdout",
     "output_type": "stream",
     "text": [
      "torch.Size([5, 1, 28, 28])\n",
      "torch.Size([5, 1])\n"
     ]
    }
   ],
   "source": [
    "z = torch.randn(5, 100)\n",
    "with torch.no_grad():\n",
    "    gen = Generator()\n",
    "    gen_imgs = gen(z)\n",
    "    print(gen_imgs.shape)\n",
    "    disc = Discriminator()\n",
    "    disc_out = disc(gen_imgs)\n",
    "    print(disc_out.shape)"
   ]
  },
  {
   "cell_type": "code",
   "execution_count": 8,
   "metadata": {},
   "outputs": [
    {
     "name": "stdout",
     "output_type": "stream",
     "text": [
      "torch.Size([5, 1, 28, 28])\n"
     ]
    },
    {
     "data": {
      "text/plain": [
       "<matplotlib.image.AxesImage at 0x752d69faa2d0>"
      ]
     },
     "execution_count": 8,
     "metadata": {},
     "output_type": "execute_result"
    },
    {
     "data": {
      "image/png": "[encoded data removed]",
      "text/plain": [
       "<Figure size 640x480 with 1 Axes>"
      ]
     },
     "metadata": {},
     "output_type": "display_data"
    }
   ],
   "source": [
    "print(gen_imgs.shape)\n",
    "plt.imshow(gen_imgs[0].squeeze().numpy(), cmap='gray')"
   ]
  },
  {
   "cell_type": "code",
   "execution_count": null,
   "metadata": {},
   "outputs": [
    {
     "data": {
      "text/plain": [
       "torch.Size([5, 784])"
      ]
     },
     "execution_count": 15,
     "metadata": {},
     "output_type": "execute_result"
    }
   ],
   "source": []
  },
  {
   "cell_type": "code",
   "execution_count": null,
   "metadata": {},
   "outputs": [],
   "source": []
  }
 ],
 "metadata": {
  "kernelspec": {
   "display_name": "pytorch",
   "language": "python",
   "name": "python3"
  },
  "language_info": {
   "codemirror_mode": {
    "name": "ipython",
    "version": 3
   },
   "file_extension": ".py",
   "mimetype": "text/x-python",
   "name": "python",
   "nbconvert_exporter": "python",
   "pygments_lexer": "ipython3",
   "version": "3.11.10"
  }
 },
 "nbformat": 4,
 "nbformat_minor": 2
}
