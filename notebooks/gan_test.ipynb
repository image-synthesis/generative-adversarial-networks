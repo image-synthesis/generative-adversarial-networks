{
 "cells": [
  {
   "cell_type": "code",
   "execution_count": 1,
   "metadata": {},
   "outputs": [],
   "source": [
    "import torch\n",
    "from torchvision import datasets, transforms\n",
    "from torch.utils.data import DataLoader"
   ]
  },
  {
   "cell_type": "code",
   "execution_count": 2,
   "metadata": {},
   "outputs": [
    {
     "name": "stdout",
     "output_type": "stream",
     "text": [
      "(28, 28)\n"
     ]
    },
    {
     "data": {
      "text/plain": [
       "<matplotlib.image.AxesImage at 0x7f3c5105a0d0>"
      ]
     },
     "execution_count": 2,
     "metadata": {},
     "output_type": "execute_result"
    },
    {
     "data": {
      "image/png": "[encoded data removed]",
      "text/plain": [
       "<Figure size 640x480 with 1 Axes>"
      ]
     },
     "metadata": {},
     "output_type": "display_data"
    }
   ],
   "source": [
    "# load the dataset\n",
    "\n",
    "transform = transforms.Compose([\n",
    "    transforms.ToTensor(),\n",
    "    transforms.Normalize((0.5,), (0.5,))  # Normalize to [-1, 1]\n",
    "])\n",
    "\n",
    "train_dataset = datasets.MNIST(\n",
    "    root='data',\n",
    "    train=True,\n",
    "    transform=transform,\n",
    "    download=True\n",
    ")\n",
    "\n",
    "test_dataset = datasets.MNIST(\n",
    "    root='data',\n",
    "    train=False,\n",
    "    transform=transform,\n",
    "    download=True\n",
    ")\n",
    "\n",
    "import matplotlib.pyplot as plt\n",
    "\n",
    "img = train_dataset[0][0].numpy().squeeze()\n",
    "print(img.shape)\n",
    "plt.imshow(img, cmap='gray')"
   ]
  },
  {
   "cell_type": "code",
   "execution_count": null,
   "metadata": {},
   "outputs": [
    {
     "data": {
      "application/vnd.jupyter.widget-view+json": {
       "model_id": "24aa41e5b6e240a9be0d75384b1e44f4",
       "version_major": 2,
       "version_minor": 0
      },
      "text/plain": [
       "README.md:   0%|          | 0.00/1.25k [00:00<?, ?B/s]"
      ]
     },
     "metadata": {},
     "output_type": "display_data"
    },
    {
     "data": {
      "application/vnd.jupyter.widget-view+json": {
       "model_id": "86ba28cbcf5f44c1bda3f6aa7d144e7b",
       "version_major": 2,
       "version_minor": 0
      },
      "text/plain": [
       "(…)-00000-of-00009-5beebd96eb33b02b.parquet:   0%|          | 0.00/501M [00:00<?, ?B/s]"
      ]
     },
     "metadata": {},
     "output_type": "display_data"
    },
    {
     "data": {
      "application/vnd.jupyter.widget-view+json": {
       "model_id": "d80579ee13f74afb8446d3d5dd9953f5",
       "version_major": 2,
       "version_minor": 0
      },
      "text/plain": [
       "(…)-00001-of-00009-5f4afcffcee57481.parquet:   0%|          | 0.00/504M [00:00<?, ?B/s]"
      ]
     },
     "metadata": {},
     "output_type": "display_data"
    },
    {
     "data": {
      "application/vnd.jupyter.widget-view+json": {
       "model_id": "cb95bd9fb8d34eef91fe09cbb767628d",
       "version_major": 2,
       "version_minor": 0
      },
      "text/plain": [
       "(…)-00002-of-00009-8f8c926d345e7432.parquet:   0%|          | 0.00/503M [00:00<?, ?B/s]"
      ]
     },
     "metadata": {},
     "output_type": "display_data"
    },
    {
     "data": {
      "application/vnd.jupyter.widget-view+json": {
       "model_id": "8e4f0f79683c498b8511d778f747deae",
       "version_major": 2,
       "version_minor": 0
      },
      "text/plain": [
       "(…)-00003-of-00009-c9be5a4b95ca824c.parquet:   0%|          | 0.00/503M [00:00<?, ?B/s]"
      ]
     },
     "metadata": {},
     "output_type": "display_data"
    },
    {
     "data": {
      "application/vnd.jupyter.widget-view+json": {
       "model_id": "7a694b6c9b6d478abe7723ac2daca501",
       "version_major": 2,
       "version_minor": 0
      },
      "text/plain": [
       "(…)-00004-of-00009-c985b2993da54f88.parquet:   0%|          | 0.00/501M [00:00<?, ?B/s]"
      ]
     },
     "metadata": {},
     "output_type": "display_data"
    },
    {
     "data": {
      "application/vnd.jupyter.widget-view+json": {
       "model_id": "dc8435f1ce684846b12123abb3a44dd1",
       "version_major": 2,
       "version_minor": 0
      },
      "text/plain": [
       "(…)-00005-of-00009-4ebb2bc3d7807cb9.parquet:   0%|          | 0.00/501M [00:00<?, ?B/s]"
      ]
     },
     "metadata": {},
     "output_type": "display_data"
    },
    {
     "data": {
      "application/vnd.jupyter.widget-view+json": {
       "model_id": "0a750aabab4246d89da2f436a28010e4",
       "version_major": 2,
       "version_minor": 0
      },
      "text/plain": [
       "(…)-00006-of-00009-e0483da7d9c26484.parquet:   0%|          | 0.00/502M [00:00<?, ?B/s]"
      ]
     },
     "metadata": {},
     "output_type": "display_data"
    },
    {
     "data": {
      "application/vnd.jupyter.widget-view+json": {
       "model_id": "9a615a68780b4a72b2b31828b1f9c256",
       "version_major": 2,
       "version_minor": 0
      },
      "text/plain": [
       "(…)-00007-of-00009-87ce80047601018f.parquet:   0%|          | 0.00/503M [00:00<?, ?B/s]"
      ]
     },
     "metadata": {},
     "output_type": "display_data"
    },
    {
     "data": {
      "application/vnd.jupyter.widget-view+json": {
       "model_id": "4e65b3d33bc548c2a85825980c46eedb",
       "version_major": 2,
       "version_minor": 0
      },
      "text/plain": [
       "(…)-00008-of-00009-926fe17e04968943.parquet:   0%|          | 0.00/502M [00:00<?, ?B/s]"
      ]
     },
     "metadata": {},
     "output_type": "display_data"
    },
    {
     "data": {
      "application/vnd.jupyter.widget-view+json": {
       "model_id": "19e5c8216de3402e853196446a64b234",
       "version_major": 2,
       "version_minor": 0
      },
      "text/plain": [
       "(…)-00000-of-00001-7c2280a6897e2462.parquet:   0%|          | 0.00/238M [00:00<?, ?B/s]"
      ]
     },
     "metadata": {},
     "output_type": "display_data"
    },
    {
     "data": {
      "application/vnd.jupyter.widget-view+json": {
       "model_id": "01eaf09155964166b258f616c1d8e48b",
       "version_major": 2,
       "version_minor": 0
      },
      "text/plain": [
       "Generating train split:   0%|          | 0/287968 [00:00<?, ? examples/s]"
      ]
     },
     "metadata": {},
     "output_type": "display_data"
    },
    {
     "data": {
      "application/vnd.jupyter.widget-view+json": {
       "model_id": "ee5297801be543e8adf4259c40dd27b6",
       "version_major": 2,
       "version_minor": 0
      },
      "text/plain": [
       "Generating test split:   0%|          | 0/15157 [00:00<?, ? examples/s]"
      ]
     },
     "metadata": {},
     "output_type": "display_data"
    }
   ],
   "source": []
  },
  {
   "cell_type": "code",
   "execution_count": null,
   "metadata": {},
   "outputs": [],
   "source": [
    "import numpy as np\n",
    "import torch\n",
    "from torchvision import datasets, transforms\n",
    "from torch.utils.data import DataLoader\n",
    "from datasets import load_dataset\n",
    "\n",
    "ds = load_dataset(\"pcuenq/lsun-bedrooms\", split='train')\n",
    "\n",
    "transform = transforms.Compose([\n",
    "    transforms.ToTensor(),\n",
    "    transforms.Normalize((0.5,), (0.5,))  # Normalize to [-1, 1]\n",
    "])\n",
    "\n",
    "def apply_transform(x):\n",
    "    x['image'] = transform(x['image'])\n",
    "    return x\n",
    "\n",
    "train_ds = ds.map(apply_transform)"
   ]
  },
  {
   "cell_type": "code",
   "execution_count": 3,
   "metadata": {},
   "outputs": [
    {
     "data": {
      "text/plain": [
       "(-1.0, 1.0)"
      ]
     },
     "execution_count": 3,
     "metadata": {},
     "output_type": "execute_result"
    }
   ],
   "source": [
    "img.min(), img.max()"
   ]
  },
  {
   "cell_type": "code",
   "execution_count": 4,
   "metadata": {},
   "outputs": [],
   "source": [
    "# import torch\n",
    "# import torch.nn as nn\n",
    "# from functools import reduce\n",
    "\n",
    "# class Generator(nn.Module):\n",
    "#     def __init__(self, final_size=28, num_deconv_layers=3, input_filters=128, output_filters=1, latent_size=100):\n",
    "#         super().__init__()\n",
    "#         self.input_filters = input_filters\n",
    "#         self.num_deconv_layers = num_deconv_layers\n",
    "#         self.orig_img_size = 4  # Calculate the starting image size\n",
    "#         self.fc = nn.Linear(latent_size, self.orig_img_size * self.orig_img_size * input_filters, bias=True)\n",
    "#         self.relu = nn.ReLU()\n",
    "#         self.bn1d = nn.BatchNorm1d(self.orig_img_size * self.orig_img_size * input_filters)\n",
    "\n",
    "#         # Define the deconvolutional layers with proper filter reductions\n",
    "#         deconv_out_filters = reduce(lambda x, _: x + [x[-1] // 2], range(num_deconv_layers), [input_filters])\n",
    "#         deconv_out_filters[-1] = output_filters  # Set the last filter to match output channels\n",
    "        \n",
    "#         # Create deconvolutional layers\n",
    "#         self.deconv_layers = nn.ModuleDict({\n",
    "#             f'deconv_{i}': nn.ConvTranspose2d(\n",
    "#                 in_channels=deconv_out_filters[i], \n",
    "#                 out_channels=deconv_out_filters[i + 1], \n",
    "#                 stride=2, \n",
    "#                 kernel_size=4, \n",
    "#                 padding=1\n",
    "#             ) for i in range(num_deconv_layers)\n",
    "#         })\n",
    "\n",
    "#         self.deconv_layers['deconv_2'] = nn.ConvTranspose2d(\n",
    "#                 in_channels=deconv_out_filters[num_deconv_layers-1], \n",
    "#                 out_channels=deconv_out_filters[num_deconv_layers], \n",
    "#                 stride=2, \n",
    "#                 kernel_size=2, \n",
    "#                 padding=2\n",
    "#             )\n",
    "        \n",
    "#         # Add BatchNorm2d for intermediate deconv layers\n",
    "#         self.bn2d_layers = nn.ModuleDict({\n",
    "#             f'bn_{i}': nn.BatchNorm2d(deconv_out_filters[i + 1]) for i in range(num_deconv_layers - 1)\n",
    "#         })\n",
    "        \n",
    "#         # Output activation function\n",
    "#         self.tanh = nn.Tanh()\n",
    "\n",
    "#     def forward(self, x):\n",
    "#         # Fully connected layer\n",
    "#         x = self.relu(self.bn1d(self.fc(x)))\n",
    "#         # Reshape to start of deconvolutional layers\n",
    "#         x = x.view(-1, self.input_filters, self.orig_img_size, self.orig_img_size)\n",
    "        \n",
    "#         # Deconvolutional layers\n",
    "#         for idx, deconv in enumerate(list(self.deconv_layers.values())[:-1]):  # Skip last layer\n",
    "#             x = self.relu(self.bn2d_layers[f'bn_{idx}'](deconv(x)))\n",
    "        \n",
    "#         # Final deconvolutional layer without batch norm\n",
    "#         x = self.tanh(self.deconv_layers[f'deconv_{self.num_deconv_layers - 1}'](x))\n",
    "#         return x"
   ]
  },
  {
   "cell_type": "code",
   "execution_count": 5,
   "metadata": {},
   "outputs": [],
   "source": [
    "# from torch.nn.utils import spectral_norm\n",
    "\n",
    "# class Discriminator(nn.Module):\n",
    "#     def __init__(self, num_initial_filters=64, num_conv_layers=2, initial_size=28):\n",
    "#         super().__init__()\n",
    "#         self.channels = [1] + reduce(lambda x, _: x + [x[-1] * 2], range(num_conv_layers-1), [num_initial_filters])\n",
    "#         self.conv_layers = nn.ModuleDict({\n",
    "#             f'conv_{i}': spectral_norm(nn.Conv2d(in_channels=self.channels[i], out_channels=self.channels[i+1], kernel_size=4, stride=2, padding=1))\n",
    "#             for i in range(num_conv_layers)\n",
    "#         })\n",
    "#         self.leaky_relu = nn.LeakyReLU(0.2)\n",
    "#         self.dropout = nn.Dropout(0.3)\n",
    "#         self.flatten = nn.Flatten()\n",
    "#         final_size = initial_size // (2 ** num_conv_layers)\n",
    "#         self.fc = nn.Linear(final_size * final_size * self.channels[-1], 1)\n",
    "\n",
    "#     def forward(self, x):\n",
    "#         for conv in self.conv_layers.values():\n",
    "#             x = self.dropout(self.leaky_relu(conv(x)))\n",
    "#         x = self.flatten(x)\n",
    "#         return self.fc(x)\n"
   ]
  },
  {
   "cell_type": "code",
   "execution_count": 6,
   "metadata": {},
   "outputs": [],
   "source": [
    "import torch\n",
    "import torch.nn as nn\n",
    "from torch.nn.utils import spectral_norm\n",
    "\n",
    "class Generator(nn.Module):\n",
    "    def __init__(self, latent_dim=100):\n",
    "        super(Generator, self).__init__()\n",
    "        self.fc = nn.Linear(latent_dim, 128 * 7 * 7)\n",
    "        self.deconv = nn.Sequential(\n",
    "            nn.ReLU(),\n",
    "            nn.Unflatten(1, (128, 7, 7)),  # Reshape to (128, 7, 7)\n",
    "            nn.ConvTranspose2d(128, 64, kernel_size=4, stride=2, padding=1),  # 7x7 -> 14x14\n",
    "            nn.ReLU(),\n",
    "            nn.ConvTranspose2d(64, 1, kernel_size=4, stride=2, padding=1),  # 14x14 -> 28x28\n",
    "            nn.Tanh()  # Output in range [-1, 1]\n",
    "        )\n",
    "\n",
    "    def forward(self, z):\n",
    "        x = self.fc(z)\n",
    "        img = self.deconv(x)\n",
    "        return img\n",
    "\n",
    "class Discriminator(nn.Module):\n",
    "    def __init__(self):\n",
    "        super(Discriminator, self).__init__()\n",
    "        self.conv = nn.Sequential(\n",
    "            nn.Conv2d(1, 64, kernel_size=4, stride=2, padding=1),  # 28x28 -> 14x14\n",
    "            nn.ReLU(),\n",
    "            nn.Conv2d(64, 128, kernel_size=4, stride=2, padding=1),  # 14x14 -> 7x7\n",
    "            nn.ReLU()\n",
    "        )\n",
    "        self.fc = nn.Sequential(\n",
    "            nn.Flatten(),\n",
    "            nn.Linear(128 * 7 * 7, 1)\n",
    "        )\n",
    "\n",
    "    def forward(self, img):\n",
    "        x = self.conv(img)\n",
    "        return self.fc(x)"
   ]
  },
  {
   "cell_type": "code",
   "execution_count": 7,
   "metadata": {},
   "outputs": [],
   "source": [
    "import torch\n",
    "from torch.optim import Adam\n",
    "from torch.utils.data import DataLoader, SubsetRandomSampler, RandomSampler\n",
    "from tqdm import tqdm\n",
    "import random\n",
    "import matplotlib.pyplot as plt\n",
    "import torch.nn as nn\n",
    "from torch.autograd import grad\n",
    "import os\n",
    "\n",
    "random.seed(42)\n",
    "torch.manual_seed(42)\n",
    "\n",
    "class Trainer:\n",
    "    def __init__(self, exp, k, m, latent_size, train_dataset, debug=False):\n",
    "        self.exp = exp\n",
    "        self.k = k\n",
    "        self.m = m\n",
    "        self.debug = debug\n",
    "        self.latent_size = latent_size\n",
    "        sampler = RandomSampler(train_dataset, replacement=False)\n",
    "        self.train_dataloader = DataLoader(train_dataset, sampler=sampler, batch_size=m)\n",
    "        self.device = torch.device('cuda' if torch.cuda.is_available() else 'cpu')\n",
    "        self.generator = Generator(latent_dim=latent_size).to(self.device)\n",
    "        self.discriminator = Discriminator().to(self.device)\n",
    "        self.generator_optim = Adam(self.generator.parameters(), lr=1e-4, betas=(0, 0.9))\n",
    "        self.discriminator_optim = Adam(self.discriminator.parameters(), lr=1e-4, betas=(0, 0.9))\n",
    "        self.loss_fn = nn.BCEWithLogitsLoss()\n",
    "\n",
    "        # Tracking losses and gradients\n",
    "        self.discriminator_losses = []\n",
    "        self.generator_losses = []\n",
    "        self.generator_gradients = []\n",
    "        self.discriminator_gradients = []\n",
    "        self.gradient_norms = []\n",
    "    \n",
    "    def train(self, iterations):\n",
    "        data_iterator = iter(self.train_dataloader)\n",
    "        for itr in tqdm(range(iterations)):\n",
    "            torch.cuda.empty_cache()\n",
    "\n",
    "            # Train the discriminator\n",
    "            total_disc_loss = 0\n",
    "            for _ in range(self.k):\n",
    "                try:\n",
    "                    sample = next(data_iterator)\n",
    "                except StopIteration:\n",
    "                    data_iterator = iter(self.train_dataloader)\n",
    "                    sample = next(data_iterator)\n",
    "                real_data = sample[0].to(self.device)\n",
    "                # real_data = real_data + 0.1 * torch.randn_like(real_data)  # Add noise to real data\n",
    "                noise_samples = torch.randn(real_data.size(0), self.latent_size).to(self.device)\n",
    "                d_loss = self.train_discriminator(real_data, noise_samples)\n",
    "                if self.debug:\n",
    "                    total_disc_loss += d_loss.item()\n",
    "            \n",
    "            if self.debug:\n",
    "                self.discriminator_losses.append(float(total_disc_loss) / self.k)\n",
    "\n",
    "            # Train the generator\n",
    "            noise_samples = torch.randn(self.m, self.latent_size).to(self.device)\n",
    "            g_loss = self.train_generator(real_data, noise_samples)\n",
    "            if self.debug:\n",
    "                self.generator_losses.append(g_loss.item())\n",
    "\n",
    "            if self.debug:\n",
    "                if (itr+1) % 500 == 0:\n",
    "                    self.save_loss_graphs(directory=f'iteration_{itr}')\n",
    "                if (itr+1) % 5000 == 0:\n",
    "                    os.makedirs(f'/home/ubuntu/generative-adversarial-networks/notebooks/{self.exp}/{itr}', exist_ok=True)\n",
    "                    torch.save(self.generator.state_dict(), f'/home/ubuntu/generative-adversarial-networks/notebooks/{self.exp}/{itr}/generator.pt')\n",
    "                    torch.save(self.discriminator.state_dict(), f'/home/ubuntu/generative-adversarial-networks/notebooks/{self.exp}/{itr}/discriminator.pt')\n",
    "                    torch.save(self.generator_optim.state_dict(), f'/home/ubuntu/generative-adversarial-networks/notebooks/{self.exp}/{itr}/generator_optim.pt')\n",
    "                    torch.save(self.discriminator_optim.state_dict(), f'/home/ubuntu/generative-adversarial-networks/notebooks/{self.exp}/{itr}/discriminator_optim.pt')\n",
    "\n",
    "        if self.debug:\n",
    "            self.save_loss_graphs('final')\n",
    "            os.makedirs(f'/home/ubuntu/generative-adversarial-networks/notebooks/{self.exp}/{iterations-1}', exist_ok=True)\n",
    "            torch.save(self.generator.state_dict(), f'/home/ubuntu/generative-adversarial-networks/notebooks/{self.exp}/{iterations-1}/generator.pt')\n",
    "            torch.save(self.discriminator.state_dict(), f'/home/ubuntu/generative-adversarial-networks/notebooks/{self.exp}/{iterations-1}/discriminator.pt')\n",
    "            torch.save(self.generator_optim.state_dict(), f'/home/ubuntu/generative-adversarial-networks/notebooks/{self.exp}/{iterations-1}/generator_optim.pt')\n",
    "            torch.save(self.discriminator_optim.state_dict(), f'/home/ubuntu/generative-adversarial-networks/notebooks/{self.exp}/{iterations-1}/discriminator_optim.pt')\n",
    "\n",
    "    def train_discriminator(self, real_data, noise_samples):\n",
    "        fake_data = self.generator(noise_samples)\n",
    "        # fake_data = fake_data + 0.1 * torch.randn_like(fake_data)  # Add noise to fake data\n",
    "        real_labels = torch.ones(real_data.size(0), 1).to(self.device)\n",
    "        fake_labels = torch.zeros(fake_data.size(0), 1).to(self.device)\n",
    "\n",
    "        real_output, _ = self.discriminator(real_data)\n",
    "        fake_output, _ = self.discriminator(fake_data)\n",
    "\n",
    "        # real_loss = self.loss_fn(real_output, real_labels)\n",
    "        # fake_loss = self.loss_fn(fake_output, fake_labels)\n",
    "\n",
    "        d_loss = -torch.mean(real_output) + torch.mean(fake_output)\n",
    "\n",
    "        # Gradient penalty calculation\n",
    "        alpha = torch.rand(real_data.size(0), 1, 1, 1).to(self.device)\n",
    "        interpolates = (alpha * real_data + (1 - alpha) * fake_data).requires_grad_(True)\n",
    "        disc_interpolates, _ = self.discriminator(interpolates)\n",
    "\n",
    "        gradients = grad(\n",
    "            outputs=disc_interpolates,\n",
    "            inputs=interpolates,\n",
    "            grad_outputs=torch.ones_like(disc_interpolates),\n",
    "            create_graph=True,\n",
    "            retain_graph=True,\n",
    "            only_inputs=True,\n",
    "        )[0]\n",
    "\n",
    "        gradients_norm = gradients.view(gradients.size(0), -1).norm(2, dim=1)\n",
    "        self.gradient_norms.append(gradients_norm.mean().item())  # Track gradient norm\n",
    "\n",
    "        lambda_gp = 10\n",
    "        gp = lambda_gp * ((gradients_norm - 1) ** 2).mean()\n",
    "\n",
    "        # loss = real_loss + fake_loss + gp\n",
    "        loss = d_loss + gp\n",
    "\n",
    "        self.discriminator_optim.zero_grad()\n",
    "        loss.backward()\n",
    "\n",
    "        # torch.nn.utils.clip_grad_norm_(self.discriminator.parameters(), max_norm=10)\n",
    "\n",
    "        # Track discriminator gradients\n",
    "        total_grad_norm = 0\n",
    "        for param in self.discriminator.parameters():\n",
    "            if param.grad is not None:\n",
    "                total_grad_norm += param.grad.norm(2).item()\n",
    "        self.discriminator_gradients.append(total_grad_norm)\n",
    "\n",
    "        self.discriminator_optim.step()\n",
    "        \n",
    "        return d_loss\n",
    "\n",
    "    def train_generator(self, real_data, noise_samples):\n",
    "        fake_data = self.generator(noise_samples)\n",
    "        fake_labels = torch.ones(fake_data.size(0), 1).to(self.device)\n",
    "        fake_output, fake_features = self.discriminator(fake_data)\n",
    "        real_output, real_features = self.discriminator(real_data)\n",
    "\n",
    "        # loss = self.loss_fn(fake_output, fake_labels)\n",
    "        # loss = -torch.mean(fake_output)\n",
    "        loss = torch.mean((real_features.mean(dim=0) - fake_features.mean(dim=0)) ** 2)\n",
    "        self.generator_optim.zero_grad()\n",
    "        loss.backward()\n",
    "\n",
    "        # Track generator gradients\n",
    "        total_grad_norm = 0\n",
    "        for param in self.generator.parameters():\n",
    "            if param.grad is not None:\n",
    "                total_grad_norm += param.grad.norm(2).item()\n",
    "        self.generator_gradients.append(total_grad_norm)\n",
    "\n",
    "        self.generator_optim.step()\n",
    "        \n",
    "        return loss\n",
    "    \n",
    "    def save_loss_graphs(self, directory):\n",
    "        directory = f'/home/ubuntu/generative-adversarial-networks/notebooks/{self.exp}/{directory}'\n",
    "        os.makedirs(directory, exist_ok=True)\n",
    "\n",
    "        # Save Discriminator Loss\n",
    "        plt.figure(figsize=(10, 5))\n",
    "        plt.plot(self.discriminator_losses, label='Discriminator Loss')\n",
    "        plt.title('Discriminator Loss Over Iterations')\n",
    "        plt.xlabel('Iterations')\n",
    "        plt.ylabel('Loss')\n",
    "        plt.legend()\n",
    "        plt.savefig(os.path.join(directory, 'discriminator_loss.png'))\n",
    "        plt.close()\n",
    "\n",
    "        # Save Generator Loss\n",
    "        plt.figure(figsize=(10, 5))\n",
    "        plt.plot(self.generator_losses, label='Generator Loss')\n",
    "        plt.title('Generator Loss Over Iterations')\n",
    "        plt.xlabel('Iterations')\n",
    "        plt.ylabel('Loss')\n",
    "        plt.legend()\n",
    "        plt.savefig(os.path.join(directory, 'generator_loss.png'))\n",
    "        plt.close()\n",
    "\n",
    "        # Save Discriminator Gradients\n",
    "        plt.figure(figsize=(10, 5))\n",
    "        plt.plot(self.discriminator_gradients, label='Discriminator Gradients')\n",
    "        plt.title('Discriminator Gradient Norm Over Iterations')\n",
    "        plt.xlabel('Iterations')\n",
    "        plt.ylabel('Gradient Norm')\n",
    "        plt.legend()\n",
    "        plt.savefig(os.path.join(directory, 'discriminator_gradients.png'))\n",
    "        plt.close()\n",
    "\n",
    "        # Save Generator Gradients\n",
    "        plt.figure(figsize=(10, 5))\n",
    "        plt.plot(self.generator_gradients, label='Generator Gradients')\n",
    "        plt.title('Generator Gradient Norm Over Iterations')\n",
    "        plt.xlabel('Iterations')\n",
    "        plt.ylabel('Gradient Norm')\n",
    "        plt.legend()\n",
    "        plt.savefig(os.path.join(directory, 'generator_gradients.png'))\n",
    "        plt.close()\n",
    "\n",
    "        # Save Gradient Norms\n",
    "        plt.figure(figsize=(10, 5))\n",
    "        plt.plot(self.gradient_norms, label='Gradient Norm (Gradient Penalty)')\n",
    "        plt.title('Gradient Norm Over Iterations')\n",
    "        plt.xlabel('Iterations')\n",
    "        plt.ylabel('Gradient Norm')\n",
    "        plt.legend()\n",
    "        plt.savefig(os.path.join(directory, 'gradient_norm.png'))\n",
    "        plt.close()"
   ]
  },
  {
   "cell_type": "code",
   "execution_count": 10,
   "metadata": {},
   "outputs": [
    {
     "name": "stderr",
     "output_type": "stream",
     "text": [
      "  0%|          | 0/1000 [00:00<?, ?it/s]/opt/conda/envs/pytorch/lib/python3.11/site-packages/torch/autograd/graph.py:825: UserWarning: Attempting to run cuBLAS, but there was no current CUDA context! Attempting to set the primary context... (Triggered internally at /opt/conda/conda-bld/pytorch_1729647429097/work/aten/src/ATen/cuda/CublasHandlePool.cpp:135.)\n",
      "  return Variable._execution_engine.run_backward(  # Calls into the C++ engine to run the backward pass\n",
      "100%|██████████| 1000/1000 [02:36<00:00,  6.40it/s]\n"
     ]
    }
   ],
   "source": [
    "trainer = Trainer('baseline_wasserstein_k5_feature_matching_loss', 5, 128, 100, train_dataset, debug=True)\n",
    "trainer.train(1000)"
   ]
  },
  {
   "cell_type": "code",
   "execution_count": 221,
   "metadata": {},
   "outputs": [
    {
     "name": "stderr",
     "output_type": "stream",
     "text": [
      "/tmp/ipykernel_115557/448255419.py:2: FutureWarning: You are using `torch.load` with `weights_only=False` (the current default value), which uses the default pickle module implicitly. It is possible to construct malicious pickle data which will execute arbitrary code during unpickling (See https://github.com/pytorch/pytorch/blob/main/SECURITY.md#untrusted-models for more details). In a future release, the default value for `weights_only` will be flipped to `True`. This limits the functions that could be executed during unpickling. Arbitrary objects will no longer be allowed to be loaded via this mode unless they are explicitly allowlisted by the user via `torch.serialization.add_safe_globals`. We recommend you start setting `weights_only=True` for any use case where you don't have full control of the loaded file. Please open an issue on GitHub for any issues related to this experimental feature.\n",
      "  trainer.generator.load_state_dict(torch.load('/home/ubuntu/generative-adversarial-networks/notebooks/baseline_wasserstein_k5_50k_batch_64_further_extended_2/99999/generator.pt'))\n",
      "/tmp/ipykernel_115557/448255419.py:3: FutureWarning: You are using `torch.load` with `weights_only=False` (the current default value), which uses the default pickle module implicitly. It is possible to construct malicious pickle data which will execute arbitrary code during unpickling (See https://github.com/pytorch/pytorch/blob/main/SECURITY.md#untrusted-models for more details). In a future release, the default value for `weights_only` will be flipped to `True`. This limits the functions that could be executed during unpickling. Arbitrary objects will no longer be allowed to be loaded via this mode unless they are explicitly allowlisted by the user via `torch.serialization.add_safe_globals`. We recommend you start setting `weights_only=True` for any use case where you don't have full control of the loaded file. Please open an issue on GitHub for any issues related to this experimental feature.\n",
      "  trainer.discriminator.load_state_dict(torch.load('/home/ubuntu/generative-adversarial-networks/notebooks/baseline_wasserstein_k5_50k_batch_64_further_extended_2/99999/discriminator.pt'))\n"
     ]
    },
    {
     "data": {
      "text/plain": [
       "<All keys matched successfully>"
      ]
     },
     "execution_count": 221,
     "metadata": {},
     "output_type": "execute_result"
    }
   ],
   "source": [
    "trainer = Trainer('baseline_wasserstein_k5_100k', 5, 128, 100, train_dataset, debug=True)\n",
    "trainer.generator.load_state_dict(torch.load('/home/ubuntu/generative-adversarial-networks/notebooks/baseline_wasserstein_k5_50k_batch_64_further_extended_2/99999/generator.pt'))\n",
    "trainer.discriminator.load_state_dict(torch.load('/home/ubuntu/generative-adversarial-networks/notebooks/baseline_wasserstein_k5_50k_batch_64_further_extended_2/99999/discriminator.pt'))"
   ]
  },
  {
   "cell_type": "code",
   "execution_count": 321,
   "metadata": {},
   "outputs": [
    {
     "name": "stdout",
     "output_type": "stream",
     "text": [
      "torch.Size([1, 1, 28, 28])\n",
      "torch.Size([1, 1])\n",
      "0 tensor([0.7559], device='cuda:0')\n",
      "torch.Size([1, 1, 28, 28])\n",
      "torch.Size([5, 1, 28, 28])\n",
      "1\n"
     ]
    },
    {
     "data": {
      "image/png": "[encoded data removed]",
      "text/plain": [
       "<Figure size 1000x1000 with 3 Axes>"
      ]
     },
     "metadata": {},
     "output_type": "display_data"
    }
   ],
   "source": [
    "import matplotlib.pyplot as plt\n",
    "\n",
    "plt.figure(figsize=(10, 10))\n",
    "latent_size = 100\n",
    "\n",
    "z = torch.randn(1, latent_size)\n",
    "with torch.no_grad():\n",
    "    gen = Generator()\n",
    "    gen_imgs = gen(z)\n",
    "    print(gen_imgs.shape)\n",
    "    disc = Discriminator()\n",
    "    disc_out = disc(gen_imgs)\n",
    "    print(disc_out.shape)\n",
    "    plt.subplot(1, 3, 1)\n",
    "    plt.imshow(gen_imgs[0].cpu().numpy().squeeze(), cmap='gray')\n",
    "\n",
    "with torch.no_grad():\n",
    "    gen_imgs = trainer.generator(z.to(trainer.device))\n",
    "    plt.subplot(1, 3, 2)\n",
    "    disc_results = trainer.discriminator(gen_imgs)\n",
    "    disc_top_img_idx = torch.argmax(disc_results).cpu().numpy()\n",
    "    print(disc_top_img_idx, disc_results[disc_top_img_idx])\n",
    "    plt.imshow(gen_imgs[disc_top_img_idx].cpu().numpy().squeeze(), cmap='gray')\n",
    "    print(gen_imgs.shape)\n",
    "    real_imgs = torch.stack([test_dataset[i][0] for i in range(5)], dim=0).to(trainer.device)\n",
    "    plt.subplot(1, 3, 3)\n",
    "    plt.imshow(real_imgs[0].cpu().numpy().squeeze(), cmap='gray')\n",
    "    print(real_imgs.shape)\n",
    "    print(torch.argmax(trainer.discriminator(real_imgs)).cpu().numpy())"
   ]
  },
  {
   "cell_type": "code",
   "execution_count": 15,
   "metadata": {},
   "outputs": [
    {
     "data": {
      "text/plain": [
       "2"
      ]
     },
     "execution_count": 15,
     "metadata": {},
     "output_type": "execute_result"
    }
   ],
   "source": [
    "len(train_dataset[0])"
   ]
  },
  {
   "cell_type": "code",
   "execution_count": 9,
   "metadata": {},
   "outputs": [],
   "source": [
    "train_dataset_size = len(train_dataset)\n",
    "# print(train_dataset_size)\n",
    "random_indices = random.sample(range(train_dataset_size), train_dataset_size)\n",
    "sampler = SubsetRandomSampler(random_indices)\n",
    "train_dataloader = DataLoader(train_dataset, sampler=sampler, batch_size=100)"
   ]
  },
  {
   "cell_type": "code",
   "execution_count": 12,
   "metadata": {},
   "outputs": [
    {
     "data": {
      "text/plain": [
       "100"
      ]
     },
     "execution_count": 12,
     "metadata": {},
     "output_type": "execute_result"
    }
   ],
   "source": [
    "sample = next(iter(train_dataloader))\n",
    "len(sample[0])"
   ]
  },
  {
   "cell_type": "code",
   "execution_count": 69,
   "metadata": {},
   "outputs": [
    {
     "data": {
      "text/plain": [
       "Dataset MNIST\n",
       "    Number of datapoints: 60000\n",
       "    Root location: data\n",
       "    Split: Train\n",
       "    StandardTransform\n",
       "Transform: Compose(\n",
       "               ToTensor()\n",
       "               Normalize(mean=(0.1307,), std=(0.3081,))\n",
       "           )"
      ]
     },
     "execution_count": 69,
     "metadata": {},
     "output_type": "execute_result"
    }
   ],
   "source": [
    "train_dataset"
   ]
  },
  {
   "cell_type": "code",
   "execution_count": 49,
   "metadata": {},
   "outputs": [
    {
     "name": "stdout",
     "output_type": "stream",
     "text": [
      "torch.Size([5, 1, 28, 28])\n",
      "torch.Size([5, 1])\n"
     ]
    }
   ],
   "source": [
    "z = torch.randn(5, 100)\n",
    "with torch.no_grad():\n",
    "    gen = Generator()\n",
    "    gen_imgs = gen(z)\n",
    "    print(gen_imgs.shape)\n",
    "    disc = Discriminator()\n",
    "    disc_out = disc(gen_imgs)\n",
    "    print(disc_out.shape)"
   ]
  },
  {
   "cell_type": "code",
   "execution_count": 8,
   "metadata": {},
   "outputs": [
    {
     "name": "stdout",
     "output_type": "stream",
     "text": [
      "torch.Size([5, 1, 28, 28])\n"
     ]
    },
    {
     "data": {
      "text/plain": [
       "<matplotlib.image.AxesImage at 0x752d69faa2d0>"
      ]
     },
     "execution_count": 8,
     "metadata": {},
     "output_type": "execute_result"
    },
    {
     "data": {
      "image/png": "[encoded data removed]",
      "text/plain": [
       "<Figure size 640x480 with 1 Axes>"
      ]
     },
     "metadata": {},
     "output_type": "display_data"
    }
   ],
   "source": [
    "print(gen_imgs.shape)\n",
    "plt.imshow(gen_imgs[0].squeeze().numpy(), cmap='gray')"
   ]
  },
  {
   "cell_type": "code",
   "execution_count": null,
   "metadata": {},
   "outputs": [
    {
     "data": {
      "text/plain": [
       "torch.Size([5, 784])"
      ]
     },
     "execution_count": 15,
     "metadata": {},
     "output_type": "execute_result"
    }
   ],
   "source": []
  },
  {
   "cell_type": "code",
   "execution_count": null,
   "metadata": {},
   "outputs": [],
   "source": []
  }
 ],
 "metadata": {
  "kernelspec": {
   "display_name": "pytorch",
   "language": "python",
   "name": "python3"
  },
  "language_info": {
   "codemirror_mode": {
    "name": "ipython",
    "version": 3
   },
   "file_extension": ".py",
   "mimetype": "text/x-python",
   "name": "python",
   "nbconvert_exporter": "python",
   "pygments_lexer": "ipython3",
   "version": "3.11.10"
  }
 },
 "nbformat": 4,
 "nbformat_minor": 2
}
