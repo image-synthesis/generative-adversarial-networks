{
 "cells": [
  {
   "cell_type": "code",
   "execution_count": 1,
   "metadata": {},
   "outputs": [],
   "source": [
    "import torch\n",
    "from torchvision import datasets, transforms\n",
    "from torch.utils.data import DataLoader"
   ]
  },
  {
   "cell_type": "code",
   "execution_count": 2,
   "metadata": {},
   "outputs": [
    {
     "name": "stdout",
     "output_type": "stream",
     "text": [
      "(28, 28)\n"
     ]
    },
    {
     "data": {
      "text/plain": [
       "<matplotlib.image.AxesImage at 0x71150d475350>"
      ]
     },
     "execution_count": 2,
     "metadata": {},
     "output_type": "execute_result"
    },
    {
     "data": {
      "image/png": "[encoded data removed]",
      "text/plain": [
       "<Figure size 640x480 with 1 Axes>"
      ]
     },
     "metadata": {},
     "output_type": "display_data"
    }
   ],
   "source": [
    "# load the dataset\n",
    "\n",
    "transform = transforms.Compose([\n",
    "    transforms.ToTensor(),\n",
    "    transforms.Normalize((0.5,), (0.5,))  # Normalize to [-1, 1]\n",
    "])\n",
    "\n",
    "train_dataset = datasets.MNIST(\n",
    "    root='data',\n",
    "    train=True,\n",
    "    transform=transform,\n",
    "    download=True\n",
    ")\n",
    "\n",
    "test_dataset = datasets.MNIST(\n",
    "    root='data',\n",
    "    train=False,\n",
    "    transform=transform,\n",
    "    download=True\n",
    ")\n",
    "\n",
    "import matplotlib.pyplot as plt\n",
    "\n",
    "img = train_dataset[0][0].numpy().squeeze()\n",
    "print(img.shape)\n",
    "plt.imshow(img, cmap='gray')"
   ]
  },
  {
   "cell_type": "code",
   "execution_count": 3,
   "metadata": {},
   "outputs": [
    {
     "data": {
      "text/plain": [
       "(-1.0, 1.0)"
      ]
     },
     "execution_count": 3,
     "metadata": {},
     "output_type": "execute_result"
    }
   ],
   "source": [
    "img.min(), img.max()"
   ]
  },
  {
   "cell_type": "code",
   "execution_count": 4,
   "metadata": {},
   "outputs": [],
   "source": [
    "# import torch\n",
    "# import torch.nn as nn\n",
    "# from functools import reduce\n",
    "\n",
    "# class Generator(nn.Module):\n",
    "#     def __init__(self, final_size=28, num_deconv_layers=3, input_filters=128, output_filters=1, latent_size=100):\n",
    "#         super().__init__()\n",
    "#         self.input_filters = input_filters\n",
    "#         self.num_deconv_layers = num_deconv_layers\n",
    "#         self.orig_img_size = 4  # Calculate the starting image size\n",
    "#         self.fc = nn.Linear(latent_size, self.orig_img_size * self.orig_img_size * input_filters, bias=True)\n",
    "#         self.relu = nn.ReLU()\n",
    "#         self.bn1d = nn.BatchNorm1d(self.orig_img_size * self.orig_img_size * input_filters)\n",
    "\n",
    "#         # Define the deconvolutional layers with proper filter reductions\n",
    "#         deconv_out_filters = reduce(lambda x, _: x + [x[-1] // 2], range(num_deconv_layers), [input_filters])\n",
    "#         deconv_out_filters[-1] = output_filters  # Set the last filter to match output channels\n",
    "        \n",
    "#         # Create deconvolutional layers\n",
    "#         self.deconv_layers = nn.ModuleDict({\n",
    "#             f'deconv_{i}': nn.ConvTranspose2d(\n",
    "#                 in_channels=deconv_out_filters[i], \n",
    "#                 out_channels=deconv_out_filters[i + 1], \n",
    "#                 stride=2, \n",
    "#                 kernel_size=4, \n",
    "#                 padding=1\n",
    "#             ) for i in range(num_deconv_layers)\n",
    "#         })\n",
    "\n",
    "#         self.deconv_layers['deconv_2'] = nn.ConvTranspose2d(\n",
    "#                 in_channels=deconv_out_filters[num_deconv_layers-1], \n",
    "#                 out_channels=deconv_out_filters[num_deconv_layers], \n",
    "#                 stride=2, \n",
    "#                 kernel_size=2, \n",
    "#                 padding=2\n",
    "#             )\n",
    "        \n",
    "#         # Add BatchNorm2d for intermediate deconv layers\n",
    "#         self.bn2d_layers = nn.ModuleDict({\n",
    "#             f'bn_{i}': nn.BatchNorm2d(deconv_out_filters[i + 1]) for i in range(num_deconv_layers - 1)\n",
    "#         })\n",
    "        \n",
    "#         # Output activation function\n",
    "#         self.tanh = nn.Tanh()\n",
    "\n",
    "#     def forward(self, x):\n",
    "#         # Fully connected layer\n",
    "#         x = self.relu(self.bn1d(self.fc(x)))\n",
    "#         # Reshape to start of deconvolutional layers\n",
    "#         x = x.view(-1, self.input_filters, self.orig_img_size, self.orig_img_size)\n",
    "        \n",
    "#         # Deconvolutional layers\n",
    "#         for idx, deconv in enumerate(list(self.deconv_layers.values())[:-1]):  # Skip last layer\n",
    "#             x = self.relu(self.bn2d_layers[f'bn_{idx}'](deconv(x)))\n",
    "        \n",
    "#         # Final deconvolutional layer without batch norm\n",
    "#         x = self.tanh(self.deconv_layers[f'deconv_{self.num_deconv_layers - 1}'](x))\n",
    "#         return x"
   ]
  },
  {
   "cell_type": "code",
   "execution_count": 5,
   "metadata": {},
   "outputs": [],
   "source": [
    "# from torch.nn.utils import spectral_norm\n",
    "\n",
    "# class Discriminator(nn.Module):\n",
    "#     def __init__(self, num_initial_filters=64, num_conv_layers=2, initial_size=28):\n",
    "#         super().__init__()\n",
    "#         self.channels = [1] + reduce(lambda x, _: x + [x[-1] * 2], range(num_conv_layers-1), [num_initial_filters])\n",
    "#         self.conv_layers = nn.ModuleDict({\n",
    "#             f'conv_{i}': spectral_norm(nn.Conv2d(in_channels=self.channels[i], out_channels=self.channels[i+1], kernel_size=4, stride=2, padding=1))\n",
    "#             for i in range(num_conv_layers)\n",
    "#         })\n",
    "#         self.leaky_relu = nn.LeakyReLU(0.2)\n",
    "#         self.dropout = nn.Dropout(0.3)\n",
    "#         self.flatten = nn.Flatten()\n",
    "#         final_size = initial_size // (2 ** num_conv_layers)\n",
    "#         self.fc = nn.Linear(final_size * final_size * self.channels[-1], 1)\n",
    "\n",
    "#     def forward(self, x):\n",
    "#         for conv in self.conv_layers.values():\n",
    "#             x = self.dropout(self.leaky_relu(conv(x)))\n",
    "#         x = self.flatten(x)\n",
    "#         return self.fc(x)\n"
   ]
  },
  {
   "cell_type": "code",
   "execution_count": 6,
   "metadata": {},
   "outputs": [],
   "source": [
    "import torch\n",
    "import torch.nn as nn\n",
    "from torch.nn.utils import spectral_norm\n",
    "\n",
    "class Generator(nn.Module):\n",
    "    def __init__(self, latent_dim=100):\n",
    "        super(Generator, self).__init__()\n",
    "        self.fc = nn.Linear(latent_dim, 128 * 7 * 7)\n",
    "        self.deconv = nn.Sequential(\n",
    "            nn.ReLU(),\n",
    "            nn.Unflatten(1, (128, 7, 7)),  # Reshape to (128, 7, 7)\n",
    "            nn.ConvTranspose2d(128, 64, kernel_size=4, stride=2, padding=1),  # 7x7 -> 14x14\n",
    "            nn.ReLU(),\n",
    "            nn.ConvTranspose2d(64, 1, kernel_size=4, stride=2, padding=1),  # 14x14 -> 28x28\n",
    "            nn.Tanh()  # Output in range [-1, 1]\n",
    "        )\n",
    "\n",
    "    def forward(self, z):\n",
    "        x = self.fc(z)\n",
    "        img = self.deconv(x)\n",
    "        return img\n",
    "\n",
    "class Discriminator(nn.Module):\n",
    "    def __init__(self):\n",
    "        super(Discriminator, self).__init__()\n",
    "        self.conv = nn.Sequential(\n",
    "            nn.Conv2d(1, 64, kernel_size=4, stride=2, padding=1),  # 28x28 -> 14x14\n",
    "            nn.ReLU(),\n",
    "            nn.Conv2d(64, 128, kernel_size=4, stride=2, padding=1),  # 14x14 -> 7x7\n",
    "            nn.ReLU()\n",
    "        )\n",
    "        self.fc = nn.Sequential(\n",
    "            nn.Flatten(),\n",
    "            nn.Linear(128 * 7 * 7, 1)\n",
    "        )\n",
    "\n",
    "    def forward(self, img):\n",
    "        x = self.conv(img)\n",
    "        return self.fc(x)\n"
   ]
  },
  {
   "cell_type": "code",
   "execution_count": null,
   "metadata": {},
   "outputs": [],
   "source": [
    "import torch\n",
    "from torch.optim import Adam\n",
    "from torch.utils.data import DataLoader, SubsetRandomSampler, RandomSampler\n",
    "from tqdm import tqdm\n",
    "import random\n",
    "import matplotlib.pyplot as plt\n",
    "import torch.nn as nn\n",
    "from torch.autograd import grad\n",
    "import os\n",
    "\n",
    "random.seed(42)\n",
    "torch.manual_seed(42)\n",
    "\n",
    "class Trainer:\n",
    "    def __init__(self, exp, k, m, latent_size, train_dataset, debug=False):\n",
    "        self.exp = exp\n",
    "        self.k = k\n",
    "        self.m = m\n",
    "        self.debug = debug\n",
    "        self.latent_size = latent_size\n",
    "        sampler = RandomSampler(train_dataset, replacement=False)\n",
    "        self.train_dataloader = DataLoader(train_dataset, sampler=sampler, batch_size=m)\n",
    "        self.device = torch.device('cuda' if torch.cuda.is_available() else 'cpu')\n",
    "        self.generator = Generator(latent_dim=latent_size).to(self.device)\n",
    "        self.discriminator = Discriminator().to(self.device)\n",
    "        self.generator_optim = Adam(self.generator.parameters(), lr=1e-4, betas=(0, 0.9))\n",
    "        self.discriminator_optim = Adam(self.discriminator.parameters(), lr=1e-4, betas=(0, 0.9))\n",
    "        self.loss_fn = nn.BCEWithLogitsLoss()\n",
    "\n",
    "        # Tracking losses and gradients\n",
    "        self.discriminator_losses = []\n",
    "        self.generator_losses = []\n",
    "        self.generator_gradients = []\n",
    "        self.discriminator_gradients = []\n",
    "        self.gradient_norms = []\n",
    "    \n",
    "    def train(self, iterations):\n",
    "        data_iterator = iter(self.train_dataloader)\n",
    "        for itr in tqdm(range(iterations)):\n",
    "            torch.cuda.empty_cache()\n",
    "\n",
    "            # Train the discriminator\n",
    "            total_disc_loss = 0\n",
    "            for _ in range(self.k):\n",
    "                try:\n",
    "                    sample = next(data_iterator)\n",
    "                except StopIteration:\n",
    "                    data_iterator = iter(self.train_dataloader)\n",
    "                    sample = next(data_iterator)\n",
    "                real_data = sample[0].to(self.device)\n",
    "                # real_data = real_data + 0.1 * torch.randn_like(real_data)  # Add noise to real data\n",
    "                noise_samples = torch.randn(real_data.size(0), self.latent_size).to(self.device)\n",
    "                d_loss = self.train_discriminator(real_data, noise_samples)\n",
    "                if self.debug:\n",
    "                    total_disc_loss += d_loss.item()\n",
    "            \n",
    "            if self.debug:\n",
    "                self.discriminator_losses.append(float(total_disc_loss) / self.k)\n",
    "\n",
    "            # Train the generator\n",
    "            noise_samples = torch.randn(self.m, self.latent_size).to(self.device)\n",
    "            g_loss = self.train_generator(noise_samples)\n",
    "            if self.debug:\n",
    "                self.generator_losses.append(g_loss.item())\n",
    "\n",
    "            if self.debug:\n",
    "                if (itr+1) % 500 == 0:\n",
    "                    self.save_loss_graphs(directory=f'iteration_{itr}')\n",
    "                if (itr+1) % 10 == 0:\n",
    "                    os.makedirs(f'/home/ubuntu/generative-adversarial-networks/notebooks/{self.exp}/{itr}', exist_ok=True)\n",
    "                    torch.save(self.generator.state_dict(), f'/home/ubuntu/generative-adversarial-networks/notebooks/{self.exp}/{itr}/generator_{itr}.pt')\n",
    "                    torch.save(self.discriminator.state_dict(), f'/home/ubuntu/generative-adversarial-networks/notebooks/{self.exp}/{itr}/discriminator_{itr}.pt')\n",
    "                    torch.save(self.generator_optim.state_dict(), f'/home/ubuntu/generative-adversarial-networks/notebooks/{self.exp}/{itr}/generator_optim_{itr}.pt')\n",
    "                    torch.save(self.discriminator_optim.state_dict(), f'/home/ubuntu/generative-adversarial-networks/notebooks/{self.exp}/{itr}/discriminator_optim_{itr}.pt')\n",
    "\n",
    "        if self.debug:\n",
    "            self.save_loss_graphs('final')\n",
    "\n",
    "    def train_discriminator(self, real_data, noise_samples):\n",
    "        fake_data = self.generator(noise_samples)\n",
    "        # fake_data = fake_data + 0.1 * torch.randn_like(fake_data)  # Add noise to fake data\n",
    "        real_labels = torch.ones(real_data.size(0), 1).to(self.device)\n",
    "        fake_labels = torch.zeros(fake_data.size(0), 1).to(self.device)\n",
    "\n",
    "        real_output = self.discriminator(real_data)\n",
    "        fake_output = self.discriminator(fake_data)\n",
    "\n",
    "        # real_loss = self.loss_fn(real_output, real_labels)\n",
    "        # fake_loss = self.loss_fn(fake_output, fake_labels)\n",
    "\n",
    "        d_loss = -torch.mean(real_output) + torch.mean(fake_output)\n",
    "\n",
    "        # Gradient penalty calculation\n",
    "        alpha = torch.rand(real_data.size(0), 1, 1, 1).to(self.device)\n",
    "        interpolates = (alpha * real_data + (1 - alpha) * fake_data).requires_grad_(True)\n",
    "        disc_interpolates = self.discriminator(interpolates)\n",
    "\n",
    "        gradients = grad(\n",
    "            outputs=disc_interpolates,\n",
    "            inputs=interpolates,\n",
    "            grad_outputs=torch.ones_like(disc_interpolates),\n",
    "            create_graph=True,\n",
    "            retain_graph=True,\n",
    "            only_inputs=True,\n",
    "        )[0]\n",
    "\n",
    "        gradients_norm = gradients.view(gradients.size(0), -1).norm(2, dim=1)\n",
    "        self.gradient_norms.append(gradients_norm.mean().item())  # Track gradient norm\n",
    "\n",
    "        lambda_gp = 10\n",
    "        gp = lambda_gp * ((gradients_norm - 1) ** 2).mean()\n",
    "\n",
    "        # loss = real_loss + fake_loss + gp\n",
    "        loss = d_loss + gp\n",
    "\n",
    "        self.discriminator_optim.zero_grad()\n",
    "        loss.backward()\n",
    "\n",
    "        # torch.nn.utils.clip_grad_norm_(self.discriminator.parameters(), max_norm=10)\n",
    "\n",
    "        # Track discriminator gradients\n",
    "        total_grad_norm = 0\n",
    "        for param in self.discriminator.parameters():\n",
    "            if param.grad is not None:\n",
    "                total_grad_norm += param.grad.norm(2).item()\n",
    "        self.discriminator_gradients.append(total_grad_norm)\n",
    "\n",
    "        self.discriminator_optim.step()\n",
    "        \n",
    "        return loss\n",
    "\n",
    "    def train_generator(self, noise_samples):\n",
    "        fake_data = self.generator(noise_samples)\n",
    "        fake_labels = torch.ones(fake_data.size(0), 1).to(self.device)\n",
    "        fake_output = self.discriminator(fake_data)\n",
    "\n",
    "        # loss = self.loss_fn(fake_output, fake_labels)\n",
    "        loss = -torch.mean(fake_output)\n",
    "        self.generator_optim.zero_grad()\n",
    "        loss.backward()\n",
    "\n",
    "        # Track generator gradients\n",
    "        total_grad_norm = 0\n",
    "        for param in self.generator.parameters():\n",
    "            if param.grad is not None:\n",
    "                total_grad_norm += param.grad.norm(2).item()\n",
    "        self.generator_gradients.append(total_grad_norm)\n",
    "\n",
    "        self.generator_optim.step()\n",
    "        \n",
    "        return loss\n",
    "    \n",
    "    def save_loss_graphs(self, directory):\n",
    "        directory = f'/home/ubuntu/generative-adversarial-networks/notebooks/{self.exp}/{directory}'\n",
    "        os.makedirs(directory, exist_ok=True)\n",
    "\n",
    "        # Save Discriminator Loss\n",
    "        plt.figure(figsize=(10, 5))\n",
    "        plt.plot(self.discriminator_losses, label='Discriminator Loss')\n",
    "        plt.title('Discriminator Loss Over Iterations')\n",
    "        plt.xlabel('Iterations')\n",
    "        plt.ylabel('Loss')\n",
    "        plt.legend()\n",
    "        plt.savefig(os.path.join(directory, 'discriminator_loss.png'))\n",
    "        plt.close()\n",
    "\n",
    "        # Save Generator Loss\n",
    "        plt.figure(figsize=(10, 5))\n",
    "        plt.plot(self.generator_losses, label='Generator Loss')\n",
    "        plt.title('Generator Loss Over Iterations')\n",
    "        plt.xlabel('Iterations')\n",
    "        plt.ylabel('Loss')\n",
    "        plt.legend()\n",
    "        plt.savefig(os.path.join(directory, 'generator_loss.png'))\n",
    "        plt.close()\n",
    "\n",
    "        # Save Discriminator Gradients\n",
    "        plt.figure(figsize=(10, 5))\n",
    "        plt.plot(self.discriminator_gradients, label='Discriminator Gradients')\n",
    "        plt.title('Discriminator Gradient Norm Over Iterations')\n",
    "        plt.xlabel('Iterations')\n",
    "        plt.ylabel('Gradient Norm')\n",
    "        plt.legend()\n",
    "        plt.savefig(os.path.join(directory, 'discriminator_gradients.png'))\n",
    "        plt.close()\n",
    "\n",
    "        # Save Generator Gradients\n",
    "        plt.figure(figsize=(10, 5))\n",
    "        plt.plot(self.generator_gradients, label='Generator Gradients')\n",
    "        plt.title('Generator Gradient Norm Over Iterations')\n",
    "        plt.xlabel('Iterations')\n",
    "        plt.ylabel('Gradient Norm')\n",
    "        plt.legend()\n",
    "        plt.savefig(os.path.join(directory, 'generator_gradients.png'))\n",
    "        plt.close()\n",
    "\n",
    "        # Save Gradient Norms\n",
    "        plt.figure(figsize=(10, 5))\n",
    "        plt.plot(self.gradient_norms, label='Gradient Norm (Gradient Penalty)')\n",
    "        plt.title('Gradient Norm Over Iterations')\n",
    "        plt.xlabel('Iterations')\n",
    "        plt.ylabel('Gradient Norm')\n",
    "        plt.legend()\n",
    "        plt.savefig(os.path.join(directory, 'gradient_norm.png'))\n",
    "        plt.close()"
   ]
  },
  {
   "cell_type": "code",
   "execution_count": 8,
   "metadata": {},
   "outputs": [
    {
     "name": "stderr",
     "output_type": "stream",
     "text": [
      "  0%|          | 0/50000 [00:00<?, ?it/s]/opt/conda/envs/pytorch/lib/python3.11/site-packages/torch/autograd/graph.py:825: UserWarning: Attempting to run cuBLAS, but there was no current CUDA context! Attempting to set the primary context... (Triggered internally at /opt/conda/conda-bld/pytorch_1729647429097/work/aten/src/ATen/cuda/CublasHandlePool.cpp:135.)\n",
      "  return Variable._execution_engine.run_backward(  # Calls into the C++ engine to run the backward pass\n",
      "  0%|          | 189/50000 [00:25<1:52:30,  7.38it/s]\n"
     ]
    },
    {
     "ename": "KeyboardInterrupt",
     "evalue": "",
     "output_type": "error",
     "traceback": [
      "\u001b[0;31m---------------------------------------------------------------------------\u001b[0m",
      "\u001b[0;31mKeyboardInterrupt\u001b[0m                         Traceback (most recent call last)",
      "Cell \u001b[0;32mIn[8], line 2\u001b[0m\n\u001b[1;32m      1\u001b[0m trainer \u001b[38;5;241m=\u001b[39m Trainer(\u001b[38;5;124m'\u001b[39m\u001b[38;5;124mbaseline_wasserstein_k5_50k\u001b[39m\u001b[38;5;124m'\u001b[39m, \u001b[38;5;241m5\u001b[39m, \u001b[38;5;241m128\u001b[39m, \u001b[38;5;241m100\u001b[39m, train_dataset, debug\u001b[38;5;241m=\u001b[39m\u001b[38;5;28;01mTrue\u001b[39;00m)\n\u001b[0;32m----> 2\u001b[0m \u001b[43mtrainer\u001b[49m\u001b[38;5;241;43m.\u001b[39;49m\u001b[43mtrain\u001b[49m\u001b[43m(\u001b[49m\u001b[38;5;241;43m50000\u001b[39;49m\u001b[43m)\u001b[49m\n",
      "Cell \u001b[0;32mIn[7], line 46\u001b[0m, in \u001b[0;36mTrainer.train\u001b[0;34m(self, iterations)\u001b[0m\n\u001b[1;32m     44\u001b[0m \u001b[38;5;28;01mfor\u001b[39;00m _ \u001b[38;5;129;01min\u001b[39;00m \u001b[38;5;28mrange\u001b[39m(\u001b[38;5;28mself\u001b[39m\u001b[38;5;241m.\u001b[39mk):\n\u001b[1;32m     45\u001b[0m     \u001b[38;5;28;01mtry\u001b[39;00m:\n\u001b[0;32m---> 46\u001b[0m         sample \u001b[38;5;241m=\u001b[39m \u001b[38;5;28mnext\u001b[39m(data_iterator)\n\u001b[1;32m     47\u001b[0m     \u001b[38;5;28;01mexcept\u001b[39;00m \u001b[38;5;167;01mStopIteration\u001b[39;00m:\n\u001b[1;32m     48\u001b[0m         data_iterator \u001b[38;5;241m=\u001b[39m \u001b[38;5;28miter\u001b[39m(\u001b[38;5;28mself\u001b[39m\u001b[38;5;241m.\u001b[39mtrain_dataloader)\n",
      "File \u001b[0;32m/opt/conda/envs/pytorch/lib/python3.11/site-packages/torch/utils/data/dataloader.py:701\u001b[0m, in \u001b[0;36m_BaseDataLoaderIter.__next__\u001b[0;34m(self)\u001b[0m\n\u001b[1;32m    698\u001b[0m \u001b[38;5;28;01mif\u001b[39;00m \u001b[38;5;28mself\u001b[39m\u001b[38;5;241m.\u001b[39m_sampler_iter \u001b[38;5;129;01mis\u001b[39;00m \u001b[38;5;28;01mNone\u001b[39;00m:\n\u001b[1;32m    699\u001b[0m     \u001b[38;5;66;03m# TODO(https://github.com/pytorch/pytorch/issues/76750)\u001b[39;00m\n\u001b[1;32m    700\u001b[0m     \u001b[38;5;28mself\u001b[39m\u001b[38;5;241m.\u001b[39m_reset()  \u001b[38;5;66;03m# type: ignore[call-arg]\u001b[39;00m\n\u001b[0;32m--> 701\u001b[0m data \u001b[38;5;241m=\u001b[39m \u001b[38;5;28;43mself\u001b[39;49m\u001b[38;5;241;43m.\u001b[39;49m\u001b[43m_next_data\u001b[49m\u001b[43m(\u001b[49m\u001b[43m)\u001b[49m\n\u001b[1;32m    702\u001b[0m \u001b[38;5;28mself\u001b[39m\u001b[38;5;241m.\u001b[39m_num_yielded \u001b[38;5;241m+\u001b[39m\u001b[38;5;241m=\u001b[39m \u001b[38;5;241m1\u001b[39m\n\u001b[1;32m    703\u001b[0m \u001b[38;5;28;01mif\u001b[39;00m (\n\u001b[1;32m    704\u001b[0m     \u001b[38;5;28mself\u001b[39m\u001b[38;5;241m.\u001b[39m_dataset_kind \u001b[38;5;241m==\u001b[39m _DatasetKind\u001b[38;5;241m.\u001b[39mIterable\n\u001b[1;32m    705\u001b[0m     \u001b[38;5;129;01mand\u001b[39;00m \u001b[38;5;28mself\u001b[39m\u001b[38;5;241m.\u001b[39m_IterableDataset_len_called \u001b[38;5;129;01mis\u001b[39;00m \u001b[38;5;129;01mnot\u001b[39;00m \u001b[38;5;28;01mNone\u001b[39;00m\n\u001b[1;32m    706\u001b[0m     \u001b[38;5;129;01mand\u001b[39;00m \u001b[38;5;28mself\u001b[39m\u001b[38;5;241m.\u001b[39m_num_yielded \u001b[38;5;241m>\u001b[39m \u001b[38;5;28mself\u001b[39m\u001b[38;5;241m.\u001b[39m_IterableDataset_len_called\n\u001b[1;32m    707\u001b[0m ):\n",
      "File \u001b[0;32m/opt/conda/envs/pytorch/lib/python3.11/site-packages/torch/utils/data/dataloader.py:757\u001b[0m, in \u001b[0;36m_SingleProcessDataLoaderIter._next_data\u001b[0;34m(self)\u001b[0m\n\u001b[1;32m    755\u001b[0m \u001b[38;5;28;01mdef\u001b[39;00m \u001b[38;5;21m_next_data\u001b[39m(\u001b[38;5;28mself\u001b[39m):\n\u001b[1;32m    756\u001b[0m     index \u001b[38;5;241m=\u001b[39m \u001b[38;5;28mself\u001b[39m\u001b[38;5;241m.\u001b[39m_next_index()  \u001b[38;5;66;03m# may raise StopIteration\u001b[39;00m\n\u001b[0;32m--> 757\u001b[0m     data \u001b[38;5;241m=\u001b[39m \u001b[38;5;28;43mself\u001b[39;49m\u001b[38;5;241;43m.\u001b[39;49m\u001b[43m_dataset_fetcher\u001b[49m\u001b[38;5;241;43m.\u001b[39;49m\u001b[43mfetch\u001b[49m\u001b[43m(\u001b[49m\u001b[43mindex\u001b[49m\u001b[43m)\u001b[49m  \u001b[38;5;66;03m# may raise StopIteration\u001b[39;00m\n\u001b[1;32m    758\u001b[0m     \u001b[38;5;28;01mif\u001b[39;00m \u001b[38;5;28mself\u001b[39m\u001b[38;5;241m.\u001b[39m_pin_memory:\n\u001b[1;32m    759\u001b[0m         data \u001b[38;5;241m=\u001b[39m _utils\u001b[38;5;241m.\u001b[39mpin_memory\u001b[38;5;241m.\u001b[39mpin_memory(data, \u001b[38;5;28mself\u001b[39m\u001b[38;5;241m.\u001b[39m_pin_memory_device)\n",
      "File \u001b[0;32m/opt/conda/envs/pytorch/lib/python3.11/site-packages/torch/utils/data/_utils/fetch.py:52\u001b[0m, in \u001b[0;36m_MapDatasetFetcher.fetch\u001b[0;34m(self, possibly_batched_index)\u001b[0m\n\u001b[1;32m     50\u001b[0m         data \u001b[38;5;241m=\u001b[39m \u001b[38;5;28mself\u001b[39m\u001b[38;5;241m.\u001b[39mdataset\u001b[38;5;241m.\u001b[39m__getitems__(possibly_batched_index)\n\u001b[1;32m     51\u001b[0m     \u001b[38;5;28;01melse\u001b[39;00m:\n\u001b[0;32m---> 52\u001b[0m         data \u001b[38;5;241m=\u001b[39m \u001b[43m[\u001b[49m\u001b[38;5;28;43mself\u001b[39;49m\u001b[38;5;241;43m.\u001b[39;49m\u001b[43mdataset\u001b[49m\u001b[43m[\u001b[49m\u001b[43midx\u001b[49m\u001b[43m]\u001b[49m\u001b[43m \u001b[49m\u001b[38;5;28;43;01mfor\u001b[39;49;00m\u001b[43m \u001b[49m\u001b[43midx\u001b[49m\u001b[43m \u001b[49m\u001b[38;5;129;43;01min\u001b[39;49;00m\u001b[43m \u001b[49m\u001b[43mpossibly_batched_index\u001b[49m\u001b[43m]\u001b[49m\n\u001b[1;32m     53\u001b[0m \u001b[38;5;28;01melse\u001b[39;00m:\n\u001b[1;32m     54\u001b[0m     data \u001b[38;5;241m=\u001b[39m \u001b[38;5;28mself\u001b[39m\u001b[38;5;241m.\u001b[39mdataset[possibly_batched_index]\n",
      "File \u001b[0;32m/opt/conda/envs/pytorch/lib/python3.11/site-packages/torch/utils/data/_utils/fetch.py:52\u001b[0m, in \u001b[0;36m<listcomp>\u001b[0;34m(.0)\u001b[0m\n\u001b[1;32m     50\u001b[0m         data \u001b[38;5;241m=\u001b[39m \u001b[38;5;28mself\u001b[39m\u001b[38;5;241m.\u001b[39mdataset\u001b[38;5;241m.\u001b[39m__getitems__(possibly_batched_index)\n\u001b[1;32m     51\u001b[0m     \u001b[38;5;28;01melse\u001b[39;00m:\n\u001b[0;32m---> 52\u001b[0m         data \u001b[38;5;241m=\u001b[39m [\u001b[38;5;28;43mself\u001b[39;49m\u001b[38;5;241;43m.\u001b[39;49m\u001b[43mdataset\u001b[49m\u001b[43m[\u001b[49m\u001b[43midx\u001b[49m\u001b[43m]\u001b[49m \u001b[38;5;28;01mfor\u001b[39;00m idx \u001b[38;5;129;01min\u001b[39;00m possibly_batched_index]\n\u001b[1;32m     53\u001b[0m \u001b[38;5;28;01melse\u001b[39;00m:\n\u001b[1;32m     54\u001b[0m     data \u001b[38;5;241m=\u001b[39m \u001b[38;5;28mself\u001b[39m\u001b[38;5;241m.\u001b[39mdataset[possibly_batched_index]\n",
      "File \u001b[0;32m/opt/conda/envs/pytorch/lib/python3.11/site-packages/torchvision/datasets/mnist.py:143\u001b[0m, in \u001b[0;36mMNIST.__getitem__\u001b[0;34m(self, index)\u001b[0m\n\u001b[1;32m    139\u001b[0m img, target \u001b[38;5;241m=\u001b[39m \u001b[38;5;28mself\u001b[39m\u001b[38;5;241m.\u001b[39mdata[index], \u001b[38;5;28mint\u001b[39m(\u001b[38;5;28mself\u001b[39m\u001b[38;5;241m.\u001b[39mtargets[index])\n\u001b[1;32m    141\u001b[0m \u001b[38;5;66;03m# doing this so that it is consistent with all other datasets\u001b[39;00m\n\u001b[1;32m    142\u001b[0m \u001b[38;5;66;03m# to return a PIL Image\u001b[39;00m\n\u001b[0;32m--> 143\u001b[0m img \u001b[38;5;241m=\u001b[39m \u001b[43mImage\u001b[49m\u001b[38;5;241;43m.\u001b[39;49m\u001b[43mfromarray\u001b[49m\u001b[43m(\u001b[49m\u001b[43mimg\u001b[49m\u001b[38;5;241;43m.\u001b[39;49m\u001b[43mnumpy\u001b[49m\u001b[43m(\u001b[49m\u001b[43m)\u001b[49m\u001b[43m,\u001b[49m\u001b[43m \u001b[49m\u001b[43mmode\u001b[49m\u001b[38;5;241;43m=\u001b[39;49m\u001b[38;5;124;43m\"\u001b[39;49m\u001b[38;5;124;43mL\u001b[39;49m\u001b[38;5;124;43m\"\u001b[39;49m\u001b[43m)\u001b[49m\n\u001b[1;32m    145\u001b[0m \u001b[38;5;28;01mif\u001b[39;00m \u001b[38;5;28mself\u001b[39m\u001b[38;5;241m.\u001b[39mtransform \u001b[38;5;129;01mis\u001b[39;00m \u001b[38;5;129;01mnot\u001b[39;00m \u001b[38;5;28;01mNone\u001b[39;00m:\n\u001b[1;32m    146\u001b[0m     img \u001b[38;5;241m=\u001b[39m \u001b[38;5;28mself\u001b[39m\u001b[38;5;241m.\u001b[39mtransform(img)\n",
      "File \u001b[0;32m/opt/conda/envs/pytorch/lib/python3.11/site-packages/PIL/Image.py:3342\u001b[0m, in \u001b[0;36mfromarray\u001b[0;34m(obj, mode)\u001b[0m\n\u001b[1;32m   3339\u001b[0m         msg \u001b[38;5;241m=\u001b[39m \u001b[38;5;124m\"\u001b[39m\u001b[38;5;124m'\u001b[39m\u001b[38;5;124mstrides\u001b[39m\u001b[38;5;124m'\u001b[39m\u001b[38;5;124m requires either tobytes() or tostring()\u001b[39m\u001b[38;5;124m\"\u001b[39m\n\u001b[1;32m   3340\u001b[0m         \u001b[38;5;28;01mraise\u001b[39;00m \u001b[38;5;167;01mValueError\u001b[39;00m(msg)\n\u001b[0;32m-> 3342\u001b[0m \u001b[38;5;28;01mreturn\u001b[39;00m \u001b[43mfrombuffer\u001b[49m\u001b[43m(\u001b[49m\u001b[43mmode\u001b[49m\u001b[43m,\u001b[49m\u001b[43m \u001b[49m\u001b[43msize\u001b[49m\u001b[43m,\u001b[49m\u001b[43m \u001b[49m\u001b[43mobj\u001b[49m\u001b[43m,\u001b[49m\u001b[43m \u001b[49m\u001b[38;5;124;43m\"\u001b[39;49m\u001b[38;5;124;43mraw\u001b[39;49m\u001b[38;5;124;43m\"\u001b[39;49m\u001b[43m,\u001b[49m\u001b[43m \u001b[49m\u001b[43mrawmode\u001b[49m\u001b[43m,\u001b[49m\u001b[43m \u001b[49m\u001b[38;5;241;43m0\u001b[39;49m\u001b[43m,\u001b[49m\u001b[43m \u001b[49m\u001b[38;5;241;43m1\u001b[39;49m\u001b[43m)\u001b[49m\n",
      "File \u001b[0;32m/opt/conda/envs/pytorch/lib/python3.11/site-packages/PIL/Image.py:3236\u001b[0m, in \u001b[0;36mfrombuffer\u001b[0;34m(mode, size, data, decoder_name, *args)\u001b[0m\n\u001b[1;32m   3234\u001b[0m \u001b[38;5;28;01mif\u001b[39;00m args[\u001b[38;5;241m0\u001b[39m] \u001b[38;5;129;01min\u001b[39;00m _MAPMODES:\n\u001b[1;32m   3235\u001b[0m     im \u001b[38;5;241m=\u001b[39m new(mode, (\u001b[38;5;241m0\u001b[39m, \u001b[38;5;241m0\u001b[39m))\n\u001b[0;32m-> 3236\u001b[0m     im \u001b[38;5;241m=\u001b[39m im\u001b[38;5;241m.\u001b[39m_new(\u001b[43mcore\u001b[49m\u001b[38;5;241;43m.\u001b[39;49m\u001b[43mmap_buffer\u001b[49m\u001b[43m(\u001b[49m\u001b[43mdata\u001b[49m\u001b[43m,\u001b[49m\u001b[43m \u001b[49m\u001b[43msize\u001b[49m\u001b[43m,\u001b[49m\u001b[43m \u001b[49m\u001b[43mdecoder_name\u001b[49m\u001b[43m,\u001b[49m\u001b[43m \u001b[49m\u001b[38;5;241;43m0\u001b[39;49m\u001b[43m,\u001b[49m\u001b[43m \u001b[49m\u001b[43margs\u001b[49m\u001b[43m)\u001b[49m)\n\u001b[1;32m   3237\u001b[0m     \u001b[38;5;28;01mif\u001b[39;00m mode \u001b[38;5;241m==\u001b[39m \u001b[38;5;124m\"\u001b[39m\u001b[38;5;124mP\u001b[39m\u001b[38;5;124m\"\u001b[39m:\n\u001b[1;32m   3238\u001b[0m         \u001b[38;5;28;01mfrom\u001b[39;00m \u001b[38;5;21;01m.\u001b[39;00m \u001b[38;5;28;01mimport\u001b[39;00m ImagePalette\n",
      "\u001b[0;31mKeyboardInterrupt\u001b[0m: "
     ]
    }
   ],
   "source": [
    "trainer = Trainer('baseline_wasserstein_k5_50k', 5, 128, 100, train_dataset, debug=True)\n",
    "trainer.train(50000)"
   ]
  },
  {
   "cell_type": "code",
   "execution_count": 24,
   "metadata": {},
   "outputs": [
    {
     "data": {
      "text/plain": [
       "torch.Size([10, 28, 28])"
      ]
     },
     "execution_count": 24,
     "metadata": {},
     "output_type": "execute_result"
    }
   ],
   "source": [
    "torch.cat([test_dataset[i][0] for i in range(10)], dim=0).shape"
   ]
  },
  {
   "cell_type": "code",
   "execution_count": 34,
   "metadata": {},
   "outputs": [
    {
     "name": "stdout",
     "output_type": "stream",
     "text": [
      "torch.Size([5, 1, 28, 28])\n",
      "torch.Size([5, 1])\n",
      "torch.Size([5, 1, 28, 28])\n",
      "tensor([[ 0.0168],\n",
      "        [ 1.8493],\n",
      "        [-0.1552],\n",
      "        [-0.1046],\n",
      "        [ 0.7630]], device='cuda:0')\n",
      "torch.Size([5, 1, 28, 28])\n",
      "tensor([[2.1613],\n",
      "        [3.4023],\n",
      "        [1.0584],\n",
      "        [2.7215],\n",
      "        [2.7594]], device='cuda:0')\n"
     ]
    },
    {
     "data": {
      "image/png": "[encoded data removed]",
      "text/plain": [
       "<Figure size 1000x1000 with 3 Axes>"
      ]
     },
     "metadata": {},
     "output_type": "display_data"
    }
   ],
   "source": [
    "import matplotlib.pyplot as plt\n",
    "\n",
    "plt.figure(figsize=(10, 10))\n",
    "latent_size = 100\n",
    "\n",
    "z = torch.randn(5, latent_size)\n",
    "with torch.no_grad():\n",
    "    gen = Generator()\n",
    "    gen_imgs = gen(z)\n",
    "    print(gen_imgs.shape)\n",
    "    disc = Discriminator()\n",
    "    disc_out = disc(gen_imgs)\n",
    "    print(disc_out.shape)\n",
    "    plt.subplot(1, 3, 1)\n",
    "    plt.imshow(gen_imgs[0].cpu().numpy().squeeze(), cmap='gray')\n",
    "\n",
    "with torch.no_grad():\n",
    "    gen_imgs = trainer.generator(z.to(trainer.device))\n",
    "    plt.subplot(1, 3, 2)\n",
    "    plt.imshow(gen_imgs[0].cpu().numpy().squeeze(), cmap='gray')\n",
    "    print(gen_imgs.shape)\n",
    "    print(trainer.discriminator(gen_imgs))\n",
    "    real_imgs = torch.stack([test_dataset[i][0] for i in range(5)], dim=0).to(trainer.device)\n",
    "    plt.subplot(1, 3, 3)\n",
    "    plt.imshow(real_imgs[0].cpu().numpy().squeeze(), cmap='gray')\n",
    "    print(real_imgs.shape)\n",
    "    print(trainer.discriminator(real_imgs))"
   ]
  },
  {
   "cell_type": "code",
   "execution_count": 75,
   "metadata": {},
   "outputs": [
    {
     "data": {
      "text/plain": [
       "2"
      ]
     },
     "execution_count": 75,
     "metadata": {},
     "output_type": "execute_result"
    }
   ],
   "source": [
    "len(train_dataset[0])"
   ]
  },
  {
   "cell_type": "code",
   "execution_count": 9,
   "metadata": {},
   "outputs": [],
   "source": [
    "train_dataset_size = len(train_dataset)\n",
    "# print(train_dataset_size)\n",
    "random_indices = random.sample(range(train_dataset_size), train_dataset_size)\n",
    "sampler = SubsetRandomSampler(random_indices)\n",
    "train_dataloader = DataLoader(train_dataset, sampler=sampler, batch_size=100)"
   ]
  },
  {
   "cell_type": "code",
   "execution_count": 12,
   "metadata": {},
   "outputs": [
    {
     "data": {
      "text/plain": [
       "100"
      ]
     },
     "execution_count": 12,
     "metadata": {},
     "output_type": "execute_result"
    }
   ],
   "source": [
    "sample = next(iter(train_dataloader))\n",
    "len(sample[0])"
   ]
  },
  {
   "cell_type": "code",
   "execution_count": 69,
   "metadata": {},
   "outputs": [
    {
     "data": {
      "text/plain": [
       "Dataset MNIST\n",
       "    Number of datapoints: 60000\n",
       "    Root location: data\n",
       "    Split: Train\n",
       "    StandardTransform\n",
       "Transform: Compose(\n",
       "               ToTensor()\n",
       "               Normalize(mean=(0.1307,), std=(0.3081,))\n",
       "           )"
      ]
     },
     "execution_count": 69,
     "metadata": {},
     "output_type": "execute_result"
    }
   ],
   "source": [
    "train_dataset"
   ]
  },
  {
   "cell_type": "code",
   "execution_count": 49,
   "metadata": {},
   "outputs": [
    {
     "name": "stdout",
     "output_type": "stream",
     "text": [
      "torch.Size([5, 1, 28, 28])\n",
      "torch.Size([5, 1])\n"
     ]
    }
   ],
   "source": [
    "z = torch.randn(5, 100)\n",
    "with torch.no_grad():\n",
    "    gen = Generator()\n",
    "    gen_imgs = gen(z)\n",
    "    print(gen_imgs.shape)\n",
    "    disc = Discriminator()\n",
    "    disc_out = disc(gen_imgs)\n",
    "    print(disc_out.shape)"
   ]
  },
  {
   "cell_type": "code",
   "execution_count": 8,
   "metadata": {},
   "outputs": [
    {
     "name": "stdout",
     "output_type": "stream",
     "text": [
      "torch.Size([5, 1, 28, 28])\n"
     ]
    },
    {
     "data": {
      "text/plain": [
       "<matplotlib.image.AxesImage at 0x752d69faa2d0>"
      ]
     },
     "execution_count": 8,
     "metadata": {},
     "output_type": "execute_result"
    },
    {
     "data": {
      "image/png": "[encoded data removed]",
      "text/plain": [
       "<Figure size 640x480 with 1 Axes>"
      ]
     },
     "metadata": {},
     "output_type": "display_data"
    }
   ],
   "source": [
    "print(gen_imgs.shape)\n",
    "plt.imshow(gen_imgs[0].squeeze().numpy(), cmap='gray')"
   ]
  },
  {
   "cell_type": "code",
   "execution_count": null,
   "metadata": {},
   "outputs": [
    {
     "data": {
      "text/plain": [
       "torch.Size([5, 784])"
      ]
     },
     "execution_count": 15,
     "metadata": {},
     "output_type": "execute_result"
    }
   ],
   "source": []
  },
  {
   "cell_type": "code",
   "execution_count": null,
   "metadata": {},
   "outputs": [],
   "source": []
  }
 ],
 "metadata": {
  "kernelspec": {
   "display_name": "pytorch",
   "language": "python",
   "name": "python3"
  },
  "language_info": {
   "codemirror_mode": {
    "name": "ipython",
    "version": 3
   },
   "file_extension": ".py",
   "mimetype": "text/x-python",
   "name": "python",
   "nbconvert_exporter": "python",
   "pygments_lexer": "ipython3",
   "version": "3.11.10"
  }
 },
 "nbformat": 4,
 "nbformat_minor": 2
}
